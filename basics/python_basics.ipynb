{
  "nbformat": 4,
  "nbformat_minor": 0,
  "metadata": {
    "colab": {
      "provenance": [],
      "authorship_tag": "ABX9TyNKC4eFdXXt3oGQEJ38lYhx",
      "include_colab_link": true
    },
    "kernelspec": {
      "name": "python3",
      "display_name": "Python 3"
    },
    "language_info": {
      "name": "python"
    }
  },
  "cells": [
    {
      "cell_type": "markdown",
      "metadata": {
        "id": "view-in-github",
        "colab_type": "text"
      },
      "source": [
        "<a href=\"https://colab.research.google.com/github/damiangohrh123/ml_projects/blob/main/python_basics.ipynb\" target=\"_parent\"><img src=\"https://colab.research.google.com/assets/colab-badge.svg\" alt=\"Open In Colab\"/></a>"
      ]
    },
    {
      "cell_type": "code",
      "execution_count": null,
      "metadata": {
        "colab": {
          "base_uri": "https://localhost:8080/"
        },
        "id": "tnY0K_pcoHk1",
        "outputId": "705821d8-c095-4f2e-9001-38685295a0bd"
      },
      "outputs": [
        {
          "output_type": "stream",
          "name": "stdout",
          "text": [
            "Loop iteration 0\n",
            "Loop iteration 1\n",
            "Loop iteration 2\n",
            "Loop iteration 3\n",
            "Loop iteration 4\n",
            "Factorial of 5: 120\n",
            "Balance: 120\n"
          ]
        }
      ],
      "source": [
        "# Loops\n",
        "for i in range(5):\n",
        "    print(f\"Loop iteration {i}\")\n",
        "\n",
        "# Functions\n",
        "def factorial(n):\n",
        "    if n == 0:\n",
        "        return 1\n",
        "    return n * factorial(n-1)\n",
        "\n",
        "print(\"Factorial of 5:\", factorial(5))\n",
        "\n",
        "# Classes\n",
        "class BankAccount:\n",
        "    def __init__(self, balance=0):\n",
        "        self.balance = balance\n",
        "\n",
        "    def deposit(self, amount):\n",
        "        self.balance += amount\n",
        "\n",
        "    def withdraw(self, amount):\n",
        "        if self.balance >= amount:\n",
        "            self.balance -= amount\n",
        "        else:\n",
        "            print(\"Insufficient funds\")\n",
        "\n",
        "    def __str__(self):\n",
        "        return f\"Balance: {self.balance}\"\n",
        "\n",
        "acc = BankAccount(100)\n",
        "acc.deposit(50)\n",
        "acc.withdraw(30)\n",
        "print(acc)"
      ]
    }
  ]
}