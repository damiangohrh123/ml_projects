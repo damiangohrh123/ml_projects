{
  "nbformat": 4,
  "nbformat_minor": 0,
  "metadata": {
    "colab": {
      "provenance": [],
      "authorship_tag": "ABX9TyPQtrsL20u1mQhHSnobEiRZ",
      "include_colab_link": true
    },
    "kernelspec": {
      "name": "python3",
      "display_name": "Python 3"
    },
    "language_info": {
      "name": "python"
    }
  },
  "cells": [
    {
      "cell_type": "markdown",
      "metadata": {
        "id": "view-in-github",
        "colab_type": "text"
      },
      "source": [
        "<a href=\"https://colab.research.google.com/github/damiangohrh123/ml_projects/blob/main/classification/titanic_classification_models_comparison.ipynb\" target=\"_parent\"><img src=\"https://colab.research.google.com/assets/colab-badge.svg\" alt=\"Open In Colab\"/></a>"
      ]
    },
    {
      "cell_type": "code",
      "execution_count": null,
      "metadata": {
        "colab": {
          "base_uri": "https://localhost:8080/"
        },
        "id": "frtBBDeSFVMF",
        "outputId": "d9efbe75-df33-441a-899f-e014dbc39c79"
      },
      "outputs": [
        {
          "output_type": "stream",
          "name": "stdout",
          "text": [
            "\n",
            "Logistic Regression:\n",
            "Accuracy: 0.8100558659217877\n",
            "Confusion Matrix:\n",
            " [[90 15]\n",
            " [19 55]]\n",
            "\n",
            "Decision Tree:\n",
            "Accuracy: 0.7988826815642458\n",
            "Confusion Matrix:\n",
            " [[96  9]\n",
            " [27 47]]\n",
            "\n",
            "Random Forest:\n",
            "Accuracy: 0.8268156424581006\n",
            "Confusion Matrix:\n",
            " [[92 13]\n",
            " [18 56]]\n",
            "\n",
            "SVM:\n",
            "Accuracy: 0.659217877094972\n",
            "Confusion Matrix:\n",
            " [[99  6]\n",
            " [55 19]]\n"
          ]
        }
      ],
      "source": [
        "\"\"\"\n",
        "Day 5: Titanic Survival Prediction Project\n",
        "- Compare Logistic Regression, Decision Tree, Random Forest, SVM\n",
        "- Show accuracy & confusion matrices\n",
        "\"\"\"\n",
        "import pandas as pd\n",
        "import seaborn as sns\n",
        "from sklearn.model_selection import train_test_split\n",
        "from sklearn.linear_model import LogisticRegression\n",
        "from sklearn.tree import DecisionTreeClassifier\n",
        "from sklearn.ensemble import RandomForestClassifier\n",
        "from sklearn.svm import SVC\n",
        "from sklearn.metrics import accuracy_score, confusion_matrix\n",
        "\n",
        "# Load Titanic dataset from seaborn\n",
        "titanic = sns.load_dataset(\"titanic\")\n",
        "\n",
        "# Drop rows where target variable is missing\n",
        "titanic = titanic.dropna(subset=[\"survived\"])\n",
        "\n",
        "# Fill missing ages and fares\n",
        "titanic[\"age\"] = titanic[\"age\"].fillna(titanic[\"age\"].mean())\n",
        "titanic[\"fare\"] = titanic[\"fare\"].fillna(titanic[\"fare\"].mean())\n",
        "\n",
        "# Encode categorical variables\n",
        "titanic = pd.get_dummies(titanic, columns=[\"sex\", \"embarked\"], drop_first=True)\n",
        "\n",
        "# Features & target\n",
        "X = titanic[[\"pclass\", \"age\", \"sibsp\", \"parch\", \"fare\", \"sex_male\", \"embarked_Q\", \"embarked_S\"]]\n",
        "y = titanic[\"survived\"]\n",
        "\n",
        "# Train-test split\n",
        "X_train, X_test, y_train, y_test = train_test_split(X, y, test_size=0.2, random_state=42)\n",
        "\n",
        "# Models\n",
        "models = {\n",
        "    \"Logistic Regression\": LogisticRegression(max_iter=200),\n",
        "    \"Decision Tree\": DecisionTreeClassifier(max_depth=4),\n",
        "    \"Random Forest\": RandomForestClassifier(n_estimators=100),\n",
        "    \"SVM\": SVC(kernel=\"rbf\")\n",
        "}\n",
        "\n",
        "# Train & evaluate\n",
        "for name, model in models.items():\n",
        "    model.fit(X_train, y_train)\n",
        "    y_pred = model.predict(X_test)\n",
        "    print(f\"\\n{name}:\")\n",
        "    print(\"Accuracy:\", accuracy_score(y_test, y_pred))\n",
        "    print(\"Confusion Matrix:\\n\", confusion_matrix(y_test, y_pred))"
      ]
    }
  ]
}